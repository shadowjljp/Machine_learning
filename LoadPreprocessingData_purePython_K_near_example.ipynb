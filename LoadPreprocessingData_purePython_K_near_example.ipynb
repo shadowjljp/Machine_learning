{
  "nbformat": 4,
  "nbformat_minor": 0,
  "metadata": {
    "colab": {
      "name": "LoadPreprocessingData_purePython_K-near_example",
      "provenance": [],
      "authorship_tag": "ABX9TyML62r5BIa4DdiNBYkv9Dmi",
      "include_colab_link": true
    },
    "kernelspec": {
      "name": "python3",
      "display_name": "Python 3"
    }
  },
  "cells": [
    {
      "cell_type": "markdown",
      "metadata": {
        "id": "view-in-github",
        "colab_type": "text"
      },
      "source": [
        "<a href=\"https://colab.research.google.com/github/shadowjljp/Machine_learning/blob/master/LoadPreprocessingData_purePython_K_near_example.ipynb\" target=\"_parent\"><img src=\"https://colab.research.google.com/assets/colab-badge.svg\" alt=\"Open In Colab\"/></a>"
      ]
    },
    {
      "cell_type": "code",
      "metadata": {
        "id": "nnfH-LARCM63",
        "colab_type": "code",
        "colab": {}
      },
      "source": [
        "#Here to practice how to load data and preprocess them before moving to the next step.\n",
        "#No Panda Library is used pure python for the first segment.\n",
        "#data loaded from google drive"
      ],
      "execution_count": null,
      "outputs": []
    },
    {
      "cell_type": "code",
      "metadata": {
        "id": "is2NwAmAU5p4",
        "colab_type": "code",
        "colab": {
          "base_uri": "https://localhost:8080/",
          "height": 51
        },
        "outputId": "00b473fa-5497-4d96-c0b9-0a7d5aaa8b2c"
      },
      "source": [
        "#load CSV file\n",
        "from csv import reader\n",
        "#import data from google drive\n",
        "from google.colab import drive\n",
        "drive.mount('/content/gdrive')\n",
        "\n",
        "#Load CSV file with empty rows and skip it\n",
        "def load_csv(filename):\n",
        "  dataset = list() # new a list\n",
        "  with open(filename,'r') as file:\n",
        "    csv_reader =reader(file)\n",
        "    for row in csv_reader:\n",
        "      if not row:\n",
        "        continue\n",
        "      dataset.append(row)\n",
        "  return dataset\n",
        "# Load dataset\n",
        "filename = '/content/gdrive/My Drive//ML Data/Iris.csv'\n",
        "dataset = load_csv(filename)\n",
        "#print('Loaded data file with '+str(len(dataset))+' rows and '+str(len(dataset[0]))+' columns')\n",
        "print('Loaded data file with {0} rows and {1} columns'.format(len(dataset),len(dataset[0])))\n"
      ],
      "execution_count": null,
      "outputs": [
        {
          "output_type": "stream",
          "text": [
            "Drive already mounted at /content/gdrive; to attempt to forcibly remount, call drive.mount(\"/content/gdrive\", force_remount=True).\n",
            "Loaded data file with 151 rows and 6 columns\n"
          ],
          "name": "stdout"
        }
      ]
    },
    {
      "cell_type": "code",
      "metadata": {
        "id": "2omElTXJC3jG",
        "colab_type": "code",
        "colab": {
          "base_uri": "https://localhost:8080/",
          "height": 51
        },
        "outputId": "91149005-7bb5-4ee0-b18e-2ac78e3a88f2"
      },
      "source": [
        "#load CSV file\n",
        "from csv import reader\n",
        "#import data from google drive\n",
        "from google.colab import drive\n",
        "drive.mount('/content/gdrive')\n",
        "\n",
        "#Load CSV file without empty rows\n",
        "def load_csv(filename):\n",
        "  file=open(filename,\"r\")\n",
        "  lines = reader(file)\n",
        "  dataset = list(lines)\n",
        "  return dataset\n",
        "\n",
        "# Load dataset\n",
        "filename = '/content/gdrive/My Drive//ML Data/diabetes.csv'\n",
        "dataset = load_csv(filename)\n",
        "#print('Loaded data file with '+str(len(dataset))+' rows and '+str(len(dataset[0]))+' columns')\n",
        "print('Loaded data file with {0} rows and {1} columns'.format(len(dataset),len(dataset[0])))\n"
      ],
      "execution_count": null,
      "outputs": [
        {
          "output_type": "stream",
          "text": [
            "Drive already mounted at /content/gdrive; to attempt to forcibly remount, call drive.mount(\"/content/gdrive\", force_remount=True).\n",
            "Loaded data file with 769 rows and 9 columns\n"
          ],
          "name": "stdout"
        }
      ]
    },
    {
      "cell_type": "code",
      "metadata": {
        "id": "v3htK0UEMJ8u",
        "colab_type": "code",
        "colab": {
          "base_uri": "https://localhost:8080/",
          "height": 272
        },
        "outputId": "7772b74c-ec0f-4d23-8380-88e2ebd358d1"
      },
      "source": [
        "#With Panda\n",
        "import pandas as pd\n",
        "#load CSV file\n",
        "from csv import reader\n",
        "#import data from google drive\n",
        "from google.colab import drive\n",
        "drive.mount('/content/gdrive')\n",
        "test_data = pd.read_csv('/content/gdrive/My Drive//ML Data/diabetes.csv')\n",
        "print(test_data)"
      ],
      "execution_count": null,
      "outputs": [
        {
          "output_type": "stream",
          "text": [
            "Drive already mounted at /content/gdrive; to attempt to forcibly remount, call drive.mount(\"/content/gdrive\", force_remount=True).\n",
            "     Pregnancies  Glucose  ...  Age  Outcome\n",
            "0              6      148  ...   50        1\n",
            "1              1       85  ...   31        0\n",
            "2              8      183  ...   32        1\n",
            "3              1       89  ...   21        0\n",
            "4              0      137  ...   33        1\n",
            "..           ...      ...  ...  ...      ...\n",
            "763           10      101  ...   63        0\n",
            "764            2      122  ...   27        0\n",
            "765            5      121  ...   30        0\n",
            "766            1      126  ...   47        1\n",
            "767            1       93  ...   23        0\n",
            "\n",
            "[768 rows x 9 columns]\n"
          ],
          "name": "stdout"
        }
      ]
    },
    {
      "cell_type": "code",
      "metadata": {
        "id": "gPAk7J9OXAkN",
        "colab_type": "code",
        "colab": {}
      },
      "source": [
        "#ML prefer numbers especially float"
      ],
      "execution_count": null,
      "outputs": []
    },
    {
      "cell_type": "code",
      "metadata": {
        "id": "EV5jor6AXIf6",
        "colab_type": "code",
        "colab": {
          "base_uri": "https://localhost:8080/",
          "height": 369
        },
        "outputId": "480d81ea-eef0-4b1d-b21d-857297df4ff4"
      },
      "source": [
        "#convert colunm to float\n",
        "def str_column_to_float(dataset,column):\n",
        "  for row in dataset:\n",
        "    row[column] = float(row[column].strip()) # strip by default will eliminate the white space on head and tail\n",
        "\n",
        "#skip header\n",
        "head =dataset[0]\n",
        "print(head)\n",
        "dataset = dataset[1:]\n",
        "# convert string columns to float\n",
        "for i in range(len(dataset[0])):\n",
        "\tstr_column_to_float(dataset, i)\n",
        "print(dataset[0])\n",
        "\n"
      ],
      "execution_count": null,
      "outputs": [
        {
          "output_type": "stream",
          "text": [
            "['Id', 'SepalLengthCm', 'SepalWidthCm', 'PetalLengthCm', 'PetalWidthCm', 'Species']\n"
          ],
          "name": "stdout"
        },
        {
          "output_type": "error",
          "ename": "ValueError",
          "evalue": "ignored",
          "traceback": [
            "\u001b[0;31m---------------------------------------------------------------------------\u001b[0m",
            "\u001b[0;31mValueError\u001b[0m                                Traceback (most recent call last)",
            "\u001b[0;32m<ipython-input-95-9ddacb4a3ba9>\u001b[0m in \u001b[0;36m<module>\u001b[0;34m()\u001b[0m\n\u001b[1;32m     10\u001b[0m \u001b[0;31m# convert string columns to float\u001b[0m\u001b[0;34m\u001b[0m\u001b[0;34m\u001b[0m\u001b[0;34m\u001b[0m\u001b[0m\n\u001b[1;32m     11\u001b[0m \u001b[0;32mfor\u001b[0m \u001b[0mi\u001b[0m \u001b[0;32min\u001b[0m \u001b[0mrange\u001b[0m\u001b[0;34m(\u001b[0m\u001b[0mlen\u001b[0m\u001b[0;34m(\u001b[0m\u001b[0mdataset\u001b[0m\u001b[0;34m[\u001b[0m\u001b[0;36m0\u001b[0m\u001b[0;34m]\u001b[0m\u001b[0;34m)\u001b[0m\u001b[0;34m)\u001b[0m\u001b[0;34m:\u001b[0m\u001b[0;34m\u001b[0m\u001b[0;34m\u001b[0m\u001b[0m\n\u001b[0;32m---> 12\u001b[0;31m         \u001b[0mstr_column_to_float\u001b[0m\u001b[0;34m(\u001b[0m\u001b[0mdataset\u001b[0m\u001b[0;34m,\u001b[0m \u001b[0mi\u001b[0m\u001b[0;34m)\u001b[0m\u001b[0;34m\u001b[0m\u001b[0;34m\u001b[0m\u001b[0m\n\u001b[0m\u001b[1;32m     13\u001b[0m \u001b[0mprint\u001b[0m\u001b[0;34m(\u001b[0m\u001b[0mdataset\u001b[0m\u001b[0;34m[\u001b[0m\u001b[0;36m0\u001b[0m\u001b[0;34m]\u001b[0m\u001b[0;34m)\u001b[0m\u001b[0;34m\u001b[0m\u001b[0;34m\u001b[0m\u001b[0m\n\u001b[1;32m     14\u001b[0m \u001b[0;34m\u001b[0m\u001b[0m\n",
            "\u001b[0;32m<ipython-input-95-9ddacb4a3ba9>\u001b[0m in \u001b[0;36mstr_column_to_float\u001b[0;34m(dataset, column)\u001b[0m\n\u001b[1;32m      2\u001b[0m \u001b[0;32mdef\u001b[0m \u001b[0mstr_column_to_float\u001b[0m\u001b[0;34m(\u001b[0m\u001b[0mdataset\u001b[0m\u001b[0;34m,\u001b[0m\u001b[0mcolumn\u001b[0m\u001b[0;34m)\u001b[0m\u001b[0;34m:\u001b[0m\u001b[0;34m\u001b[0m\u001b[0;34m\u001b[0m\u001b[0m\n\u001b[1;32m      3\u001b[0m   \u001b[0;32mfor\u001b[0m \u001b[0mrow\u001b[0m \u001b[0;32min\u001b[0m \u001b[0mdataset\u001b[0m\u001b[0;34m:\u001b[0m\u001b[0;34m\u001b[0m\u001b[0;34m\u001b[0m\u001b[0m\n\u001b[0;32m----> 4\u001b[0;31m     \u001b[0mrow\u001b[0m\u001b[0;34m[\u001b[0m\u001b[0mcolumn\u001b[0m\u001b[0;34m]\u001b[0m \u001b[0;34m=\u001b[0m \u001b[0mfloat\u001b[0m\u001b[0;34m(\u001b[0m\u001b[0mrow\u001b[0m\u001b[0;34m[\u001b[0m\u001b[0mcolumn\u001b[0m\u001b[0;34m]\u001b[0m\u001b[0;34m.\u001b[0m\u001b[0mstrip\u001b[0m\u001b[0;34m(\u001b[0m\u001b[0;34m)\u001b[0m\u001b[0;34m)\u001b[0m \u001b[0;31m# strip by default will eliminate the white space on head and tail\u001b[0m\u001b[0;34m\u001b[0m\u001b[0;34m\u001b[0m\u001b[0m\n\u001b[0m\u001b[1;32m      5\u001b[0m \u001b[0;34m\u001b[0m\u001b[0m\n\u001b[1;32m      6\u001b[0m \u001b[0;31m#skip header\u001b[0m\u001b[0;34m\u001b[0m\u001b[0;34m\u001b[0m\u001b[0;34m\u001b[0m\u001b[0m\n",
            "\u001b[0;31mValueError\u001b[0m: could not convert string to float: 'Iris-setosa'"
          ]
        }
      ]
    },
    {
      "cell_type": "code",
      "metadata": {
        "id": "rDCV8VlbkY1X",
        "colab_type": "code",
        "colab": {}
      },
      "source": [
        "#convert String to int \n",
        "#Turn the outcome/predicted value to int\n",
        "def str_column_to_int(dataset,column):\n",
        "  class_values=[row[column] for row in dataset]\n",
        "  unique = set(class_values)\n",
        "  lookup = dict()\n",
        "  for i,value in enumerate(unique):\n",
        "    lookup[value]=i\n",
        "  for row in dataset:\n",
        "    row[column] = lookup[row[column]\n",
        "  return lookup\n",
        "\n"
      ],
      "execution_count": null,
      "outputs": []
    },
    {
      "cell_type": "markdown",
      "metadata": {
        "id": "09mkvQePslPO",
        "colab_type": "text"
      },
      "source": [
        "# **The whole program use Iris as example**"
      ]
    },
    {
      "cell_type": "code",
      "metadata": {
        "id": "7tGEFOZ0spDK",
        "colab_type": "code",
        "colab": {
          "base_uri": "https://localhost:8080/",
          "height": 85
        },
        "outputId": "112c3fa4-30bd-460f-f33b-f22707c430cd"
      },
      "source": [
        "#load CSV file\n",
        "from csv import reader\n",
        "#import data from google drive\n",
        "from google.colab import drive\n",
        "drive.mount('/content/gdrive')\n",
        "\n",
        "from statistics import mean \n",
        "# k-nearest neighbors on the Iris Flowers Dataset\n",
        "from random import seed\n",
        "from random import randrange\n",
        "from csv import reader\n",
        "from math import sqrt\n",
        "# Example of calculating Euclidean distance\n",
        "from math import sqrt\n",
        "\n",
        "# Split a dataset into k folds\n",
        "def cross_validation_split(dataset, n_folds):\n",
        "\tdataset_split = list()\n",
        "\tdataset_copy = list(dataset)\n",
        "\tfold_size = int(len(dataset) / n_folds)\n",
        "\tfor _ in range(n_folds):\n",
        "\t\tfold = list()\n",
        "\t\twhile len(fold) < fold_size:\n",
        "\t\t\tindex = randrange(len(dataset_copy))\n",
        "\t\t\tfold.append(dataset_copy.pop(index))\n",
        "\t\tdataset_split.append(fold)\n",
        "\treturn dataset_split\n",
        "\n",
        "# Convert string column to float\n",
        "def str_column_to_float(dataset, column):\n",
        "\tfor row in dataset:\n",
        "\t\trow[column] = float(row[column].strip())\n",
        " \n",
        "# Convert string column to integer\n",
        "def str_column_to_int(dataset, column):\n",
        "  class_values = [row[column] for row in dataset]\n",
        "  unique = set(class_values)\n",
        "  lookup = dict()\n",
        "  for i, value in enumerate(unique):\n",
        "    lookup[value] = i\n",
        "  for row in dataset:\n",
        "    row[column] = lookup[row[column]]\n",
        "  return lookup\n",
        " # Find the min and max values for each column\n",
        "def dataset_minmax(dataset):\n",
        "  minMax=[]\n",
        "  for i in range (len(dataset)):\n",
        "    dataCol = [row[i] for row in dataset]\n",
        "    valueMin = min(dataCol)\n",
        "    valueMax = max(dataCol)\n",
        "    valueMean = mean(dataCol)\n",
        "    minMax.append([valueMin,valueMax,valueMean])\n",
        "  return minMax\n",
        "\n",
        "# Rescale dataset columns to the range 0-1\n",
        "def normalize_dataset(dataset, minmax):\n",
        "  for row in dataset:\n",
        "    for i in range (len(row)):\n",
        "      row[i]=(row[i]-minmax[2])/(minmax[1]-minmax[0])\n",
        "\n",
        "# Evaluate an algorithm using a cross validation split\n",
        "def evaluate_algorithm(dataset, algorithm, n_folds, *args):\n",
        "\tfolds = cross_validation_split(dataset, n_folds)\n",
        "\tscores = list()\n",
        "\tfor fold in folds:\n",
        "\t\ttrain_set = list(folds)\n",
        "\t\ttrain_set.remove(fold)\n",
        "\t\ttrain_set = sum(train_set, [])\n",
        "\t\ttest_set = list()\n",
        "\t\tfor row in fold:\n",
        "\t\t\trow_copy = list(row)\n",
        "\t\t\ttest_set.append(row_copy)\n",
        "\t\t\trow_copy[-1] = None\n",
        "\t\tpredicted = algorithm(train_set, test_set, *args)\n",
        "\t\tactual = [row[-1] for row in fold]\n",
        "\t\taccuracy = accuracy_metric(actual, predicted)\n",
        "\t\tscores.append(accuracy)\n",
        "\treturn scores\n",
        "# Calculate accuracy percentage\n",
        "def accuracy_metric(actual, predicted):\n",
        "\tcorrect = 0\n",
        "\tfor i in range(len(actual)):\n",
        "\t\tif actual[i] == predicted[i]:\n",
        "\t\t\tcorrect += 1\n",
        "\treturn correct / float(len(actual)) * 100.0\n",
        "  \n",
        "# calculate Euclidean Distance\n",
        "def EuclideanDistance(row1,row2):\n",
        "  distance=0.0\n",
        "  for i in range(len(row1)-1):\n",
        "    distance+=(row1[i]-row2[i])**2\n",
        "  return sqrt(distance)\n",
        "\n",
        "#Locate the nearest neighbors\n",
        "def get_neighbors(train,test_row,num_neightbors):\n",
        "  distance=[]\n",
        "  for train_row in train:\n",
        "    dist = EuclideanDistance(train_row,test_row)\n",
        "    distance.append((train_row,dist)) #store tuple in list\n",
        "  distance.sort(key=lambda tup:tup[1])\n",
        "  neighbors=[]\n",
        "  for i in range(num_neightbors):\n",
        "    neighbors.append(distance[i][0])\n",
        "  return neighbors\n",
        "\n",
        "\n",
        "# Make a prediction with neighbors\n",
        "def predict_classification(train, test_row, num_neighbors):\n",
        "  neighbors = get_neighbors(train, test_row, num_neighbors)\n",
        "  output_values = [row[-1] for row in neighbors]\n",
        "  prediction = max(set(output_values), key=output_values.count)\n",
        "  return prediction\n",
        "\n",
        "# kNN Algorithm\n",
        "def k_nearest_neighbors(train, test, num_neighbors):\n",
        "\tpredictions = list()\n",
        "\tfor row in test:\n",
        "\t\toutput = predict_classification(train, row, num_neighbors)\n",
        "\t\tpredictions.append(output)\n",
        "\treturn(predictions)\n",
        " \n",
        "\n",
        "# Load iris dataset\n",
        "filename = '/content/gdrive/My Drive//ML Data/Iris.csv'\n",
        "dataset = load_csv(filename)\n",
        "print('Loaded data file with {0} rows and {1} columns'.format( len(dataset), len(dataset[0])))\n",
        "#get rid of header\n",
        "header =dataset[0]\n",
        "dataset=dataset[1:]\n",
        "\n",
        "for i in range(len(dataset[0])-1):\n",
        "\tstr_column_to_float(dataset, i)\n",
        "# convert class column to integers\n",
        "str_column_to_int(dataset, len(dataset[0])-1)\n",
        "# evaluate algorithm\n",
        "n_folds = 5\n",
        "num_neighbors = 5\n",
        "scores = evaluate_algorithm(dataset, k_nearest_neighbors, n_folds, num_neighbors)\n",
        "print('Scores: %s' % scores)\n",
        "print('Mean Accuracy: %.3f%%' % (sum(scores)/float(len(scores))))"
      ],
      "execution_count": null,
      "outputs": [
        {
          "output_type": "stream",
          "text": [
            "Drive already mounted at /content/gdrive; to attempt to forcibly remount, call drive.mount(\"/content/gdrive\", force_remount=True).\n",
            "Loaded data file with 151 rows and 6 columns\n",
            "Scores: [100.0, 100.0, 100.0, 100.0, 100.0]\n",
            "Mean Accuracy: 100.000%\n"
          ],
          "name": "stdout"
        }
      ]
    }
  ]
}